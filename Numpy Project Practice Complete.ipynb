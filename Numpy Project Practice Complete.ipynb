{
 "cells": [
  {
   "cell_type": "raw",
   "id": "fb3d6dd8-7c99-44fc-be69-c073a819fb63",
   "metadata": {},
   "source": [
    "Imagine you are a Data Analyst in a college.\n",
    "You have to analyze 500 students’ exam performance.\n",
    "\n",
    "Each student has:\n",
    "\n",
    "1. Math score\n",
    "\n",
    "2. Science score\n",
    "\n",
    "3. English score\n",
    "\n",
    "4. Sports score\n",
    "\n",
    "You will:\n",
    "\n",
    "- Create the dataset using NumPy\n",
    "\n",
    "- Compute overall statistics\n",
    "\n",
    "- Find top performers\n",
    "\n",
    "- Standardize (normalize) scores\n",
    "\n",
    "- Compare performance between boys & girls\n",
    "\n",
    "- Predict missing scores using matrix solving"
   ]
  },
  {
   "cell_type": "markdown",
   "id": "f4d8c4c9-c6f5-43cf-b9d9-334742d7fa30",
   "metadata": {},
   "source": [
    "### 1. Create Synthetic data"
   ]
  },
  {
   "cell_type": "code",
   "execution_count": 2,
   "id": "3b248128-50f7-4b3b-ab40-b2ac388f56f5",
   "metadata": {},
   "outputs": [
    {
     "name": "stdout",
     "output_type": "stream",
     "text": [
      "Shape: (500, 4)\n",
      "Sample:\n",
      " [[52.29809423 78.53151962 73.50052099 65.66575743]\n",
      " [42.27729163 75.33115974 58.31655545 54.82190053]\n",
      " [58.30227572 65.66840601 69.05375506 71.73387603]\n",
      " [77.84598191 83.91195764 54.65974505 50.50192687]\n",
      " [68.21140616 57.02724007 61.98632356 77.42594595]]\n"
     ]
    }
   ],
   "source": [
    "import numpy as np\n",
    "\n",
    "# Step 1 - Create synthetic dataset\n",
    "np.random.seed(42) # fixed seed by which your result would be same\n",
    "\n",
    "no_of_students = 500\n",
    "\n",
    "# Random gender (0 = Male, 1 = Female)\n",
    "gender = np.random.randint(0, 2, size=no_of_students)\n",
    "\n",
    "# Random marks (0 to 100)\n",
    "math = np.random.normal(65, 15, size = no_of_students).clip(0,100) \n",
    "# mean=65, std=15 (avg 65 ke aas paas) # .clip(0,100) ensures marks blw 0 & 100 only\n",
    "science = np.random.normal(70, 12, size = no_of_students).clip(0,100)\n",
    "english = np.random.normal(68, 10, size = no_of_students).clip(0,100)\n",
    "sports = np.random.normal(60, 20, size = no_of_students).clip(0,100)\n",
    "\n",
    "# Combine all subjects in a single matrix (students x 4 subjects)\n",
    "scores = np.column_stack((math, science, english, sports)) # combine columns horizontally\n",
    "\n",
    "print(\"Shape:\", scores.shape)\n",
    "print(\"Sample:\\n\", scores[:5])\n"
   ]
  },
  {
   "cell_type": "markdown",
   "id": "a5aba7e8-87eb-4365-8567-d32890f12cb0",
   "metadata": {},
   "source": [
    "### 2. Basics Stats"
   ]
  },
  {
   "cell_type": "code",
   "execution_count": 8,
   "id": "d6258f67-4f70-4ae2-b070-f21020c4f7da",
   "metadata": {},
   "outputs": [
    {
     "name": "stdout",
     "output_type": "stream",
     "text": [
      "Average marks: [64.8202601  71.29810564 68.64790757 59.78216158]\n",
      "Median marks: [64.84835439 71.78209269 68.33043809 59.76247408]\n",
      "Standard deviation: [14.88158102 11.82285525  9.97986295 19.07110078]\n"
     ]
    }
   ],
   "source": [
    "# Mean, Median, Std\n",
    "means = np.mean(scores, axis=0)\n",
    "medians = np.median(scores, axis=0)\n",
    "std = np.std(scores, axis=0)\n",
    "\n",
    "print(\"Average marks:\", means)\n",
    "print(\"Median marks:\", medians)\n",
    "print(\"Standard deviation:\", std)"
   ]
  },
  {
   "cell_type": "markdown",
   "id": "450c1bec-4f1f-4d44-8f8d-31410c5c14ac",
   "metadata": {},
   "source": [
    "### 3. Total marks & Top Performers"
   ]
  },
  {
   "cell_type": "code",
   "execution_count": 12,
   "id": "dd7093a6-3d85-46bf-a5da-fe816cd7633d",
   "metadata": {},
   "outputs": [
    {
     "name": "stdout",
     "output_type": "stream",
     "text": [
      "\n",
      "Top 5 Students: [124  51 186 225 246]\n"
     ]
    }
   ],
   "source": [
    "# Total score per student\n",
    "total = scores.sum(axis=1)\n",
    "# Rank (argsort for ascending order)\n",
    "rank = np.argsort(-total) # Negative for descending order\n",
    "\n",
    "top5_idx = rank[:5]\n",
    "print(\"\\nTop 5 Students:\" , top5_idx)"
   ]
  },
  {
   "cell_type": "markdown",
   "id": "45d17ce0-b53f-4a93-bfb4-d8d1595e1ac2",
   "metadata": {},
   "source": [
    "### 4. Broadcasting concept"
   ]
  },
  {
   "cell_type": "code",
   "execution_count": 13,
   "id": "85b55aff-3e7d-4eb2-a606-93c5b124e345",
   "metadata": {},
   "outputs": [
    {
     "name": "stdout",
     "output_type": "stream",
     "text": [
      "\n",
      "After bonus first row: [57.29809423 83.53151962 78.50052099 70.66575743]\n"
     ]
    }
   ],
   "source": [
    "# Suppose school gives +5 bonus marks to all subjects\n",
    "bonus = np.array([5,5,5,5])\n",
    "scores_bonus = scores + bonus # Broadcasting automatic\n",
    "print(\"\\nAfter bonus first row:\", scores_bonus[0])"
   ]
  },
  {
   "cell_type": "markdown",
   "id": "1e114825-0a88-45e2-8ca0-ba90eb21df25",
   "metadata": {},
   "source": [
    "### 5. Z-Score Normalization (standardization)"
   ]
  },
  {
   "cell_type": "code",
   "execution_count": 17,
   "id": "270bb28f-eecf-4528-9e28-c12f4bfc817b",
   "metadata": {},
   "outputs": [
    {
     "name": "stdout",
     "output_type": "stream",
     "text": [
      "\n",
      "Normalized first row: [-0.84  0.61  0.49  0.31]\n"
     ]
    }
   ],
   "source": [
    "# Normalize scores so each subjects has (mean=0 and std=1)\n",
    "# Z = (X - mean) / std\n",
    "z_scores = (scores - means) / std\n",
    "print(\"\\nNormalized first row:\",np.round(z_scores[0], 2))"
   ]
  },
  {
   "cell_type": "markdown",
   "id": "37fdbf76-78c2-4d58-9b12-7969ed6d9abd",
   "metadata": {},
   "source": [
    "### 6. Gender-wise analysis"
   ]
  },
  {
   "cell_type": "code",
   "execution_count": 19,
   "id": "a62fecdc-ccd8-48b0-a4ca-5553528d5b67",
   "metadata": {},
   "outputs": [
    {
     "name": "stdout",
     "output_type": "stream",
     "text": [
      "\n",
      "Boys average: [64.82674596 71.13832872 67.96113494 59.85033835]\n",
      "\n",
      "Girls average: [64.81407826 71.45039301 69.30248773 59.71718059]\n"
     ]
    }
   ],
   "source": [
    "boys = scores[gender == 0]\n",
    "girls = scores[gender == 1]\n",
    "\n",
    "print(\"\\nBoys average:\", np.mean(boys, axis=0))\n",
    "print(\"\\nGirls average:\", np.mean(girls, axis=0))"
   ]
  },
  {
   "cell_type": "markdown",
   "id": "cb82bc39-6ccb-49d3-ada2-5550f5a3ce62",
   "metadata": {},
   "source": [
    "### 7. Correlation blw subjects"
   ]
  },
  {
   "cell_type": "code",
   "execution_count": 20,
   "id": "8978d50f-e1a8-4093-861a-f8ff433f2529",
   "metadata": {},
   "outputs": [
    {
     "name": "stdout",
     "output_type": "stream",
     "text": [
      "\n",
      "Correlation matrix blw subjects:\n",
      " [[ 1.   -0.01 -0.05  0.07]\n",
      " [-0.01  1.   -0.01 -0.03]\n",
      " [-0.05 -0.01  1.    0.01]\n",
      " [ 0.07 -0.03  0.01  1.  ]]\n"
     ]
    }
   ],
   "source": [
    "corr_matrix = np.corrcoef(scores.T)\n",
    "print(\"\\nCorrelation matrix blw subjects:\\n\", np.round(corr_matrix, 2))"
   ]
  },
  {
   "cell_type": "markdown",
   "id": "017d31b2-a7f7-49bc-95b7-01ae66c262dc",
   "metadata": {},
   "source": [
    "### 8. Linear Algebra - find weights for total marks prediction"
   ]
  },
  {
   "cell_type": "code",
   "execution_count": 24,
   "id": "fd0d43df-17a2-42fa-a56c-582d08f6c018",
   "metadata": {},
   "outputs": [
    {
     "name": "stdout",
     "output_type": "stream",
     "text": [
      "\n",
      "Predicted total marks sample: [65.74537352 56.65576572 64.00557071 72.29412175 64.53259379]\n"
     ]
    }
   ],
   "source": [
    "# let total marks = 0.4*Math + 0.3*Science + 0.2*English + 0.1*Sports\n",
    "# Let's verify with matrix multiplication\n",
    "weights = np.array([0.4, 0.3, 0.2, 0.1]) # importance of each subjet\n",
    "predicted_total = scores @ weights # matrix multiplication, # @ means multiply blw rows & weights\n",
    "print(\"\\nPredicted total marks sample:\" , predicted_total[:5]) # predicted marks"
   ]
  },
  {
   "cell_type": "markdown",
   "id": "7843cf9c-096d-4596-86d3-7bf9bd762e2e",
   "metadata": {},
   "source": [
    "### 9. Boolean Masking (filtering)"
   ]
  },
  {
   "cell_type": "code",
   "execution_count": 28,
   "id": "283bfadb-369f-427e-a6f6-aadc68b53cc6",
   "metadata": {},
   "outputs": [
    {
     "name": "stdout",
     "output_type": "stream",
     "text": [
      "\n",
      "Students with >85 in both Science & Math: 6\n",
      "\n",
      "Students with >80 in Maths: 76\n"
     ]
    }
   ],
   "source": [
    "# Find students who scored > 85 in both Math & Science\n",
    "mask = (math > 85) & (science > 85)\n",
    "high_achievers = np.sum(mask)\n",
    "print(\"\\nStudents with >85 in both Science & Math:\", high_achievers)\n",
    "# Find students who scored > 80 in Math\n",
    "math_top = (math>80)\n",
    "math_topper = np.sum(math_top)\n",
    "print(\"\\nStudents with >80 in Maths:\", math_topper)\n"
   ]
  },
  {
   "cell_type": "markdown",
   "id": "0e29de74-351b-4e72-ab30-90751bb16b0c",
   "metadata": {},
   "source": [
    "### 10. Practice task"
   ]
  },
  {
   "cell_type": "raw",
   "id": "8fa0e929-885f-49f1-8d5a-427dd4c80cf1",
   "metadata": {},
   "source": [
    "- Lowest 10% students ka average nikalna\n",
    "\n",
    "- Top 10% aur bottom 10% ke marks compare karna\n",
    "\n",
    "- Z-score normalize karne ke baad ka average\n",
    "\n",
    "- Students ka pass percentage (total >= 200)\n",
    "\n",
    "- Random missing values daal kar unhe fill karna (mean se)"
   ]
  },
  {
   "cell_type": "markdown",
   "id": "36ea75e6-d19c-403b-948f-000aaa7faa9a",
   "metadata": {},
   "source": [
    "### Lowest 10% students ka average nikalna"
   ]
  },
  {
   "cell_type": "code",
   "execution_count": 32,
   "id": "06ffbed1-a399-4618-8ad9-59b2dcdc4eaa",
   "metadata": {},
   "outputs": [
    {
     "name": "stdout",
     "output_type": "stream",
     "text": [
      "\n",
      "Lowest 10% students marks avg:\n",
      " 210.71423324610964\n"
     ]
    }
   ],
   "source": [
    "\n",
    "# Step 1: Find out Total marks \n",
    "total = scores.sum(axis=1)\n",
    "# Step 2: Sort total marks\n",
    "sorted_total = np.sort(total)\n",
    "# Step 3: 10% student ka count\n",
    "n_students = len(total)\n",
    "lowest_count = int(0.10 * n_students)\n",
    "# Step 4: Take Lowest 10% marks data \n",
    "lowest_10 = sorted_total[:lowest_count]\n",
    "# Step 5: Avg of lowest 10%\n",
    "lowest_avg = np.mean(lowest_10per)\n",
    "# print result\n",
    "print(\"\\nLowest 10% students marks avg:\\n\", lowest_avg)"
   ]
  },
  {
   "cell_type": "markdown",
   "id": "58f920aa-640b-47eb-85cf-b0fb721d8b14",
   "metadata": {},
   "source": [
    "### Top 10% aur bottom 10% ke marks compare karna"
   ]
  },
  {
   "cell_type": "code",
   "execution_count": 33,
   "id": "801a9288-b63a-40bf-b019-85897ab5a59f",
   "metadata": {},
   "outputs": [
    {
     "name": "stdout",
     "output_type": "stream",
     "text": [
      "Bottom 10% average marks: 210.71\n",
      "Top 10% average marks: 312.67\n",
      "Difference (Top - Bottom): 101.96\n"
     ]
    }
   ],
   "source": [
    "# Total marks per student\n",
    "total = scores.sum(axis=1)\n",
    "# Sort marks (ascending order)\n",
    "sorted_total = np.sort(total)\n",
    "# Calculate how many students are in 10%\n",
    "n_students = len(total)\n",
    "count_10 = int(0.10 * n_students)\n",
    "# Lowest 10% and highest 10%\n",
    "bottom_10 = sorted_total[:count_10]\n",
    "top_10 = sorted_total[-count_10:]\n",
    "# Find their averages\n",
    "bottom_avg = np.mean(bottom_10)\n",
    "top_avg = np.mean(top_10)\n",
    "\n",
    "# Compare the two groups\n",
    "print(\"Bottom 10% average marks:\", round(bottom_avg, 2))\n",
    "print(\"Top 10% average marks:\", round(top_avg, 2))\n",
    "print(\"Difference (Top - Bottom):\", round(top_avg - bottom_avg, 2))"
   ]
  },
  {
   "cell_type": "markdown",
   "id": "603fa399-afec-4074-ada0-890df8cdbfa0",
   "metadata": {},
   "source": [
    "### Z-Score Normalize karne ke baad ka average"
   ]
  },
  {
   "cell_type": "code",
   "execution_count": 40,
   "id": "e4cbf211-a416-46aa-a9b0-71c570ee4027",
   "metadata": {},
   "outputs": [
    {
     "name": "stdout",
     "output_type": "stream",
     "text": [
      "Average (mean) after normalization: [ 0. -0. -0. -0.]\n"
     ]
    }
   ],
   "source": [
    "# Z_score nikal lo\n",
    "z_scores = (scores - means) / std\n",
    "# Do mean check of every subject \n",
    "avg_after = np.mean(z_scores, axis=0)\n",
    "print(\"Average (mean) after normalization:\", np.round(avg_after, 2))"
   ]
  },
  {
   "cell_type": "markdown",
   "id": "d6745ce4-12de-4e4d-9cc0-644ddeeb1c0a",
   "metadata": {},
   "source": [
    "### Student Pass Percentage (total >= 200)"
   ]
  },
  {
   "cell_type": "code",
   "execution_count": 48,
   "id": "9565a0b1-2812-406c-85c6-01a7295c05b6",
   "metadata": {},
   "outputs": [
    {
     "name": "stdout",
     "output_type": "stream",
     "text": [
      "Total Students: 500\n",
      "Passed Students: 493\n",
      "Pass percentage: 98.6 %\n"
     ]
    }
   ],
   "source": [
    "# Step 1: find total marks\n",
    "total = scores.sum(axis=1)\n",
    "\n",
    "# Step 2: Find passing students \n",
    "passed = total >= 200\n",
    "\n",
    "# Step 3: Count passed students\n",
    "n_passed = np.sum(passed)\n",
    "\n",
    "# Step 4: Total students count\n",
    "n_total = len(total)\n",
    "\n",
    "# Step 5: Pass % \n",
    "pass_percent = (n_passed / n_total) * 100\n",
    "\n",
    "# Step 6: print result\n",
    "print(\"Total Students:\", n_total)\n",
    "print(\"Passed Students:\", n_passed)\n",
    "print(\"Pass percentage:\", round(pass_percent, 2),\"%\")\n"
   ]
  },
  {
   "cell_type": "markdown",
   "id": "075da08e-eda7-45d8-aaf8-cc2bb059302e",
   "metadata": {},
   "source": [
    "### Random missing values fill by mean"
   ]
  },
  {
   "cell_type": "code",
   "execution_count": 58,
   "id": "009c1bb3-7963-462d-a19a-5b7795f176d5",
   "metadata": {},
   "outputs": [
    {
     "name": "stdout",
     "output_type": "stream",
     "text": [
      "(500, 4)\n",
      "Random missing values added Successfully!\n",
      "Total missing Values: 48\n",
      "Column means: [64.69 71.37 68.63 59.82]\n",
      "Missing values filled with column means!\n",
      "Total missing values after filling: 0\n"
     ]
    }
   ],
   "source": [
    "# Step 1: dataset shape\n",
    "print(scores.shape)\n",
    "\n",
    "# Step 2: Introduce random missing values\n",
    "import numpy as np\n",
    "np.random.seed(42) # repeatable randomness\n",
    "\n",
    "# Randomly choose 50 random (row,column) positions to make missing\n",
    "n_missing = 50\n",
    "rows = np.random.randint(0, scores.shape[0], n_missing) # Start, Stop, Size\n",
    "cols = np.random.randint(0, scores.shape[1], n_missing)\n",
    "\n",
    "# Replace those positions with NaN\n",
    "scores_with_nan = scores.copy()\n",
    "scores_with_nan[rows, cols] = np.nan\n",
    "\n",
    "print(\"Random missing values added Successfully!\")\n",
    "\n",
    "# Step 3: Check Missing Values\n",
    "print(\"Total missing Values:\", np.isnan(scores_with_nan).sum())\n",
    "\n",
    "# Step 4: Calculate mean of each column(NaN ignore karke)\n",
    "col_means = np.nanmean(scores_with_nan, axis=0) # nanmean NaN values ko ignore karta h\n",
    "print(\"Column means:\", np.round(col_means, 2))\n",
    "\n",
    "# Step 5: Missing values fill by mean\n",
    "# find positions where values are NaN\n",
    "inds = np.where(np.isnan(scores_with_nan))\n",
    "\n",
    "# Replace NaN with mean of that column\n",
    "scores_with_nan[inds] = np.take(col_means, inds[1])\n",
    "print(\"Missing values filled with column means!\")\n",
    "\n",
    "# Step 6: Check again\n",
    "print(\"Total missing values after filling:\", np.isnan(scores_with_nan).sum())"
   ]
  },
  {
   "cell_type": "code",
   "execution_count": null,
   "id": "17cffc5a-89a1-4d7d-8163-517ae5b1bd59",
   "metadata": {},
   "outputs": [],
   "source": []
  },
  {
   "cell_type": "code",
   "execution_count": null,
   "id": "00529118-386e-4021-99bb-af27c343a4da",
   "metadata": {},
   "outputs": [],
   "source": []
  },
  {
   "cell_type": "code",
   "execution_count": null,
   "id": "5da28d1a-ddea-4324-b80d-ed13460a7697",
   "metadata": {},
   "outputs": [],
   "source": []
  }
 ],
 "metadata": {
  "kernelspec": {
   "display_name": "Python [conda env:base] *",
   "language": "python",
   "name": "conda-base-py"
  },
  "language_info": {
   "codemirror_mode": {
    "name": "ipython",
    "version": 3
   },
   "file_extension": ".py",
   "mimetype": "text/x-python",
   "name": "python",
   "nbconvert_exporter": "python",
   "pygments_lexer": "ipython3",
   "version": "3.12.7"
  }
 },
 "nbformat": 4,
 "nbformat_minor": 5
}
